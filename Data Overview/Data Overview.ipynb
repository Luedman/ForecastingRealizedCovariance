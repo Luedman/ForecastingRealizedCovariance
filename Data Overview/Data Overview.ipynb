{
 "cells": [
  {
   "cell_type": "code",
   "execution_count": 1,
   "metadata": {},
   "outputs": [],
   "source": [
    "!jt -t chesterish\n",
    "import pandas as pd\n",
    "import numpy as np\n",
    "from matplotlib import pyplot as plt\n",
    "from statsmodels.graphics.tsaplots import plot_acf, plot_pacf"
   ]
  },
  {
   "cell_type": "code",
   "execution_count": 4,
   "metadata": {},
   "outputs": [],
   "source": [
    "loadpath = \"./\"\n",
    "\n",
    "def getHeader(loadpath):\n",
    "\n",
    "        header = pd.read_excel(loadpath + \"no_trade.xls\")\n",
    "        header = header.set_index(\"date\")\n",
    "        header = header.drop([\"BTI\", \"GSK\", \"ITT\", \"TM\", \"UVV\"], axis=1)\n",
    "        try:\n",
    "            header = header.drop([\"Unnamed: 0\"], axis=1)\n",
    "        except:\n",
    "            pass\n",
    "\n",
    "        columnNames = []\n",
    "        for asset in header.columns.tolist()[:-1]:\n",
    "            index = list(header.columns).index(asset)\n",
    "            columnNames.append(asset + \"-\" + asset)\n",
    "            for crossAsset in header.columns[index + 1 :].tolist():\n",
    "                columnNames.append(asset + \"-\" + crossAsset)\n",
    "\n",
    "        columnNames.append(header.columns[-1] + \"-\" + header.columns[-1])\n",
    "        columnNames.sort()\n",
    "\n",
    "        return columnNames\n",
    "\n",
    "data = pd.read_csv(loadpath + \"RVOC_6m.csv\", engine=\"python\", skiprows=[1], index_col=\"Var1\")\n",
    "data = data.drop(\"Unnamed: 0\", axis=1)\n",
    "data.columns = getHeader(loadpath)\n",
    "data.index = pd.to_datetime(data.index, format=\"%Y%m%d\")"
   ]
  },
  {
   "cell_type": "code",
   "execution_count": 5,
   "metadata": {},
   "outputs": [],
   "source": [
    "series = data[\"AAPL-AAPL\"].values\n",
    "plt.rcParams[\"font.family\"] = \"Times New Roman\""
   ]
  },
  {
   "cell_type": "code",
   "execution_count": 10,
   "metadata": {},
   "outputs": [
    {
     "data": {
      "image/png": "[encoded data removed]",
      "text/plain": [
       "<Figure size 432x288 with 1 Axes>"
      ]
     },
     "metadata": {
      "needs_background": "light"
     },
     "output_type": "display_data"
    }
   ],
   "source": [
    "plt.plot(list(data.index), series)\n",
    "plt.xlabel(\"Days\")\n",
    "plt.ylabel(\"Realized Volatility\")\n",
    "plt.ticklabel_format(style='sci', axis='y', scilimits=(0,0))\n",
    "plt.show()"
   ]
  },
  {
   "cell_type": "code",
   "execution_count": null,
   "metadata": {},
   "outputs": [],
   "source": [
    "plot_acf(series)\n",
    "plt.xlabel(\"Lag\")\n",
    "plt.ylabel(\"Autocorrelation\")\n",
    "plt.title(\"\")\n",
    "#plt.title(\"Autocorrelation Realized Daily Volatility: AAPL\")\n",
    "plt.show()"
   ]
  },
  {
   "cell_type": "code",
   "execution_count": null,
   "metadata": {},
   "outputs": [],
   "source": [
    "plot_pacf(series, lags=35)\n",
    "plt.xlabel(\"Lag\")\n",
    "plt.ylabel(\"Partial Autocorrelation\")\n",
    "plt.title(\"\")\n",
    "#plt.title(\"Partial Autocorrelation Realized Daily Volatility: AAPL\")\n",
    "plt.show()"
   ]
  },
  {
   "cell_type": "code",
   "execution_count": 14,
   "metadata": {},
   "outputs": [
    {
     "data": {
      "text/plain": [
       "Timestamp('2007-01-03 00:00:00')"
      ]
     },
     "execution_count": 14,
     "metadata": {},
     "output_type": "execute_result"
    }
   ],
   "source": [
    "data.index[int(len(data.index)*0.8)]"
   ]
  },
  {
   "cell_type": "code",
   "execution_count": 13,
   "metadata": {},
   "outputs": [
    {
     "data": {
      "text/plain": [
       "DatetimeIndex(['1999-01-06', '1999-01-07', '1999-01-08', '1999-01-11',\n",
       "               '1999-01-12', '1999-01-13', '1999-01-14', '1999-01-15',\n",
       "               '1999-01-19', '1999-01-20',\n",
       "               ...\n",
       "               '2008-12-16', '2008-12-17', '2008-12-18', '2008-12-19',\n",
       "               '2008-12-22', '2008-12-23', '2008-12-26', '2008-12-29',\n",
       "               '2008-12-30', '2008-12-31'],\n",
       "              dtype='datetime64[ns]', name='Var1', length=2483, freq=None)"
      ]
     },
     "execution_count": 13,
     "metadata": {},
     "output_type": "execute_result"
    }
   ],
   "source": [
    "data.index"
   ]
  },
  {
   "cell_type": "code",
   "execution_count": null,
   "metadata": {},
   "outputs": [],
   "source": []
  }
 ],
 "metadata": {
  "kernelspec": {
   "display_name": "Python 3",
   "language": "python",
   "name": "python3"
  },
  "language_info": {
   "codemirror_mode": {
    "name": "ipython",
    "version": 3
   },
   "file_extension": ".py",
   "mimetype": "text/x-python",
   "name": "python",
   "nbconvert_exporter": "python",
   "pygments_lexer": "ipython3",
   "version": "3.6.9"
  }
 },
 "nbformat": 4,
 "nbformat_minor": 2
}
