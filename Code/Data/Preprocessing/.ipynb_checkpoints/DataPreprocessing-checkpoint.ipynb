{
 "cells": [
  {
   "cell_type": "code",
   "execution_count": 1,
   "metadata": {},
   "outputs": [],
   "source": [
    "import pandas as pd\n",
    "import numpy as np\n",
    "from sklearn.preprocessing import MinMaxScaler\n",
    "from sklearn.externals import joblib"
   ]
  },
  {
   "cell_type": "code",
   "execution_count": 2,
   "metadata": {},
   "outputs": [],
   "source": [
    "# Download the data here\n",
    "# The File realized.library01.csv has to be saved into xls format and converted with \n",
    "# the \"Data -> Text to Columns\" Function (Sperator is \",\")\n",
    "\n",
    "# Specifiy Path\n",
    "path = \"/Users/lukas/Desktop/HSG/2-Master/4_Masterthesis/Code/Data/realized.library01\"\n",
    "\n",
    "usecols = ['Dates', \n",
    "           'DJI_rv', \n",
    "           'FTSE_rv', \n",
    "           'GDAXI_rv', \n",
    "           'N225_rv', \n",
    "           'EUR_rv', ]\n",
    "\n",
    "data = pd.read_excel(io = path + \".xls\", skiprows = 1)\n",
    "data = data[usecols]\n",
    "\n",
    "# Format the Date column and make it to an Index\n",
    "data['Dates'] = pd.to_datetime(data['Dates'], format = '%Y%m%d').dt.date\n",
    "data = data.set_index('Dates')\n",
    "data = data.interpolate(limit = 3).fillna(0.000001)\n",
    "data = np.log(data)"
   ]
  },
  {
   "cell_type": "code",
   "execution_count": 3,
   "metadata": {},
   "outputs": [
    {
     "data": {
      "text/html": [
       "<div>\n",
       "<style scoped>\n",
       "    .dataframe tbody tr th:only-of-type {\n",
       "        vertical-align: middle;\n",
       "    }\n",
       "\n",
       "    .dataframe tbody tr th {\n",
       "        vertical-align: top;\n",
       "    }\n",
       "\n",
       "    .dataframe thead th {\n",
       "        text-align: right;\n",
       "    }\n",
       "</style>\n",
       "<table border=\"1\" class=\"dataframe\">\n",
       "  <thead>\n",
       "    <tr style=\"text-align: right;\">\n",
       "      <th></th>\n",
       "      <th>DJI_rv</th>\n",
       "      <th>FTSE_rv</th>\n",
       "      <th>GDAXI_rv</th>\n",
       "      <th>N225_rv</th>\n",
       "      <th>EUR_rv</th>\n",
       "    </tr>\n",
       "    <tr>\n",
       "      <th>Dates</th>\n",
       "      <th></th>\n",
       "      <th></th>\n",
       "      <th></th>\n",
       "      <th></th>\n",
       "      <th></th>\n",
       "    </tr>\n",
       "  </thead>\n",
       "  <tbody>\n",
       "    <tr>\n",
       "      <th>1996-01-03</th>\n",
       "      <td>-10.879890</td>\n",
       "      <td>-13.815511</td>\n",
       "      <td>-10.223515</td>\n",
       "      <td>-13.815511</td>\n",
       "      <td>-13.815511</td>\n",
       "    </tr>\n",
       "    <tr>\n",
       "      <th>1996-01-04</th>\n",
       "      <td>-9.435458</td>\n",
       "      <td>-13.815511</td>\n",
       "      <td>-10.115960</td>\n",
       "      <td>-13.815511</td>\n",
       "      <td>-13.815511</td>\n",
       "    </tr>\n",
       "    <tr>\n",
       "      <th>1996-01-05</th>\n",
       "      <td>-10.077593</td>\n",
       "      <td>-13.815511</td>\n",
       "      <td>-10.416950</td>\n",
       "      <td>-13.815511</td>\n",
       "      <td>-13.815511</td>\n",
       "    </tr>\n",
       "    <tr>\n",
       "      <th>1996-01-08</th>\n",
       "      <td>-11.431323</td>\n",
       "      <td>-13.815511</td>\n",
       "      <td>-11.000386</td>\n",
       "      <td>-9.774052</td>\n",
       "      <td>-13.815511</td>\n",
       "    </tr>\n",
       "    <tr>\n",
       "      <th>1996-01-09</th>\n",
       "      <td>-10.157272</td>\n",
       "      <td>-13.815511</td>\n",
       "      <td>-10.429323</td>\n",
       "      <td>-9.419654</td>\n",
       "      <td>-13.815511</td>\n",
       "    </tr>\n",
       "  </tbody>\n",
       "</table>\n",
       "</div>"
      ],
      "text/plain": [
       "               DJI_rv    FTSE_rv   GDAXI_rv    N225_rv     EUR_rv\n",
       "Dates                                                            \n",
       "1996-01-03 -10.879890 -13.815511 -10.223515 -13.815511 -13.815511\n",
       "1996-01-04  -9.435458 -13.815511 -10.115960 -13.815511 -13.815511\n",
       "1996-01-05 -10.077593 -13.815511 -10.416950 -13.815511 -13.815511\n",
       "1996-01-08 -11.431323 -13.815511 -11.000386  -9.774052 -13.815511\n",
       "1996-01-09 -10.157272 -13.815511 -10.429323  -9.419654 -13.815511"
      ]
     },
     "execution_count": 3,
     "metadata": {},
     "output_type": "execute_result"
    }
   ],
   "source": [
    "# Interpolate and replace NaNs with zero\n",
    "# data = data.interpolate(limit = 3).fillna(0.000001)\n",
    "\n",
    "# Apply exp-transform\n",
    "# data = np.log(data)\n",
    "\n",
    "# Normalize the values between 0 and 1\n",
    "# scaler = MinMaxScaler(feature_range = (0, 1))\n",
    "\n",
    "#for cols in usecols[1:]:\n",
    "#    data[cols] = scaler.fit_transform(np.log(data[cols].values.reshape(len(data[cols]),1)))\n",
    "\n",
    "data.head()"
   ]
  },
  {
   "cell_type": "code",
   "execution_count": 4,
   "metadata": {},
   "outputs": [],
   "source": [
    "# Save Data Set\n",
    "data.to_excel(path + \"_normalized\" +\".xls\" )\n",
    "data.to_csv(path + \"_normalized\" +\".csv\" )\n",
    "\n",
    "# Save Scaler\n",
    "# scaler_filename = \"MinMaxScaler.save\"\n",
    "# joblib.dump(scaler, scaler_filename) \n",
    "# scaler = joblib.load(scaler_filename) "
   ]
  },
  {
   "cell_type": "code",
   "execution_count": null,
   "metadata": {},
   "outputs": [],
   "source": []
  }
 ],
 "metadata": {
  "kernelspec": {
   "display_name": "Python 3",
   "language": "python",
   "name": "python3"
  },
  "language_info": {
   "codemirror_mode": {
    "name": "ipython",
    "version": 3
   },
   "file_extension": ".py",
   "mimetype": "text/x-python",
   "name": "python",
   "nbconvert_exporter": "python",
   "pygments_lexer": "ipython3",
   "version": "3.6.7"
  }
 },
 "nbformat": 4,
 "nbformat_minor": 2
}
